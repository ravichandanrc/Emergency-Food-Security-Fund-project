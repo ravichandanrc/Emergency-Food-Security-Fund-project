{
  "nbformat": 4,
  "nbformat_minor": 0,
  "metadata": {
    "colab": {
      "provenance": []
    },
    "kernelspec": {
      "name": "python3",
      "display_name": "Python 3"
    },
    "language_info": {
      "name": "python"
    }
  },
  "cells": [
    {
      "cell_type": "code",
      "execution_count": null,
      "metadata": {
        "id": "1KhCGXRaJpIU"
      },
      "outputs": [],
      "source": [
        "#FileB- Classification using Machine Learning"
      ]
    },
    {
      "cell_type": "code",
      "source": [
        "import pandas as pd\n",
        "import numpy as np\n",
        "import os"
      ],
      "metadata": {
        "id": "0nvymEj3JuDT"
      },
      "execution_count": null,
      "outputs": []
    },
    {
      "cell_type": "code",
      "source": [
        "df=pd.read_csv('FILEB.csv')\n",
        "df.head(2)"
      ],
      "metadata": {
        "colab": {
          "base_uri": "https://localhost:8080/",
          "height": 246
        },
        "id": "9QL2obm6JuX_",
        "outputId": "74d0afb7-47e7-4adc-ce58-d736565ccc89"
      },
      "execution_count": null,
      "outputs": [
        {
          "output_type": "execute_result",
          "data": {
            "text/plain": [
              "  ProjectNumber                      Lead RecipientName RecipientType  \\\n",
              "0        521-27  Breakfast Club of Canada           NaN           NaN   \n",
              "1      521-1335  Breakfast Club of Canada           NaN           NaN   \n",
              "\n",
              "  Indigenous Town_City_Community Province_Territory PostalCode ContactName  \\\n",
              "0         No             Toronto                 ON        NaN         NaN   \n",
              "1        Yes           Vancouver                 BC        NaN         NaN   \n",
              "\n",
              "  ContactPhone ContactEmail Funding_Status  Requested  Approved_Funding  \\\n",
              "0          NaN          NaN       Approved        NaN         1082319.0   \n",
              "1          NaN          NaN       Approved        NaN          251702.0   \n",
              "\n",
              "        Investment_Type Investment_Description Investment_Output  \\\n",
              "0  Financial Assistance                    NaN               NaN   \n",
              "1  Financial Assistance                    NaN               NaN   \n",
              "\n",
              "  Describe_Remaining_Need  Additonal_Funding_Needed PageIndex  \n",
              "0                     NaN                       NaN     46&47  \n",
              "1                     NaN                       NaN     46&47  "
            ],
            "text/html": [
              "\n",
              "  <div id=\"df-4a47d7af-61ea-46ba-80ff-f764ca9d6488\">\n",
              "    <div class=\"colab-df-container\">\n",
              "      <div>\n",
              "<style scoped>\n",
              "    .dataframe tbody tr th:only-of-type {\n",
              "        vertical-align: middle;\n",
              "    }\n",
              "\n",
              "    .dataframe tbody tr th {\n",
              "        vertical-align: top;\n",
              "    }\n",
              "\n",
              "    .dataframe thead th {\n",
              "        text-align: right;\n",
              "    }\n",
              "</style>\n",
              "<table border=\"1\" class=\"dataframe\">\n",
              "  <thead>\n",
              "    <tr style=\"text-align: right;\">\n",
              "      <th></th>\n",
              "      <th>ProjectNumber</th>\n",
              "      <th>Lead</th>\n",
              "      <th>RecipientName</th>\n",
              "      <th>RecipientType</th>\n",
              "      <th>Indigenous</th>\n",
              "      <th>Town_City_Community</th>\n",
              "      <th>Province_Territory</th>\n",
              "      <th>PostalCode</th>\n",
              "      <th>ContactName</th>\n",
              "      <th>ContactPhone</th>\n",
              "      <th>ContactEmail</th>\n",
              "      <th>Funding_Status</th>\n",
              "      <th>Requested</th>\n",
              "      <th>Approved_Funding</th>\n",
              "      <th>Investment_Type</th>\n",
              "      <th>Investment_Description</th>\n",
              "      <th>Investment_Output</th>\n",
              "      <th>Describe_Remaining_Need</th>\n",
              "      <th>Additonal_Funding_Needed</th>\n",
              "      <th>PageIndex</th>\n",
              "    </tr>\n",
              "  </thead>\n",
              "  <tbody>\n",
              "    <tr>\n",
              "      <th>0</th>\n",
              "      <td>521-27</td>\n",
              "      <td>Breakfast Club of Canada</td>\n",
              "      <td>NaN</td>\n",
              "      <td>NaN</td>\n",
              "      <td>No</td>\n",
              "      <td>Toronto</td>\n",
              "      <td>ON</td>\n",
              "      <td>NaN</td>\n",
              "      <td>NaN</td>\n",
              "      <td>NaN</td>\n",
              "      <td>NaN</td>\n",
              "      <td>Approved</td>\n",
              "      <td>NaN</td>\n",
              "      <td>1082319.0</td>\n",
              "      <td>Financial Assistance</td>\n",
              "      <td>NaN</td>\n",
              "      <td>NaN</td>\n",
              "      <td>NaN</td>\n",
              "      <td>NaN</td>\n",
              "      <td>46&amp;47</td>\n",
              "    </tr>\n",
              "    <tr>\n",
              "      <th>1</th>\n",
              "      <td>521-1335</td>\n",
              "      <td>Breakfast Club of Canada</td>\n",
              "      <td>NaN</td>\n",
              "      <td>NaN</td>\n",
              "      <td>Yes</td>\n",
              "      <td>Vancouver</td>\n",
              "      <td>BC</td>\n",
              "      <td>NaN</td>\n",
              "      <td>NaN</td>\n",
              "      <td>NaN</td>\n",
              "      <td>NaN</td>\n",
              "      <td>Approved</td>\n",
              "      <td>NaN</td>\n",
              "      <td>251702.0</td>\n",
              "      <td>Financial Assistance</td>\n",
              "      <td>NaN</td>\n",
              "      <td>NaN</td>\n",
              "      <td>NaN</td>\n",
              "      <td>NaN</td>\n",
              "      <td>46&amp;47</td>\n",
              "    </tr>\n",
              "  </tbody>\n",
              "</table>\n",
              "</div>\n",
              "      <button class=\"colab-df-convert\" onclick=\"convertToInteractive('df-4a47d7af-61ea-46ba-80ff-f764ca9d6488')\"\n",
              "              title=\"Convert this dataframe to an interactive table.\"\n",
              "              style=\"display:none;\">\n",
              "        \n",
              "  <svg xmlns=\"http://www.w3.org/2000/svg\" height=\"24px\"viewBox=\"0 0 24 24\"\n",
              "       width=\"24px\">\n",
              "    <path d=\"M0 0h24v24H0V0z\" fill=\"none\"/>\n",
              "    <path d=\"M18.56 5.44l.94 2.06.94-2.06 2.06-.94-2.06-.94-.94-2.06-.94 2.06-2.06.94zm-11 1L8.5 8.5l.94-2.06 2.06-.94-2.06-.94L8.5 2.5l-.94 2.06-2.06.94zm10 10l.94 2.06.94-2.06 2.06-.94-2.06-.94-.94-2.06-.94 2.06-2.06.94z\"/><path d=\"M17.41 7.96l-1.37-1.37c-.4-.4-.92-.59-1.43-.59-.52 0-1.04.2-1.43.59L10.3 9.45l-7.72 7.72c-.78.78-.78 2.05 0 2.83L4 21.41c.39.39.9.59 1.41.59.51 0 1.02-.2 1.41-.59l7.78-7.78 2.81-2.81c.8-.78.8-2.07 0-2.86zM5.41 20L4 18.59l7.72-7.72 1.47 1.35L5.41 20z\"/>\n",
              "  </svg>\n",
              "      </button>\n",
              "      \n",
              "  <style>\n",
              "    .colab-df-container {\n",
              "      display:flex;\n",
              "      flex-wrap:wrap;\n",
              "      gap: 12px;\n",
              "    }\n",
              "\n",
              "    .colab-df-convert {\n",
              "      background-color: #E8F0FE;\n",
              "      border: none;\n",
              "      border-radius: 50%;\n",
              "      cursor: pointer;\n",
              "      display: none;\n",
              "      fill: #1967D2;\n",
              "      height: 32px;\n",
              "      padding: 0 0 0 0;\n",
              "      width: 32px;\n",
              "    }\n",
              "\n",
              "    .colab-df-convert:hover {\n",
              "      background-color: #E2EBFA;\n",
              "      box-shadow: 0px 1px 2px rgba(60, 64, 67, 0.3), 0px 1px 3px 1px rgba(60, 64, 67, 0.15);\n",
              "      fill: #174EA6;\n",
              "    }\n",
              "\n",
              "    [theme=dark] .colab-df-convert {\n",
              "      background-color: #3B4455;\n",
              "      fill: #D2E3FC;\n",
              "    }\n",
              "\n",
              "    [theme=dark] .colab-df-convert:hover {\n",
              "      background-color: #434B5C;\n",
              "      box-shadow: 0px 1px 3px 1px rgba(0, 0, 0, 0.15);\n",
              "      filter: drop-shadow(0px 1px 2px rgba(0, 0, 0, 0.3));\n",
              "      fill: #FFFFFF;\n",
              "    }\n",
              "  </style>\n",
              "\n",
              "      <script>\n",
              "        const buttonEl =\n",
              "          document.querySelector('#df-4a47d7af-61ea-46ba-80ff-f764ca9d6488 button.colab-df-convert');\n",
              "        buttonEl.style.display =\n",
              "          google.colab.kernel.accessAllowed ? 'block' : 'none';\n",
              "\n",
              "        async function convertToInteractive(key) {\n",
              "          const element = document.querySelector('#df-4a47d7af-61ea-46ba-80ff-f764ca9d6488');\n",
              "          const dataTable =\n",
              "            await google.colab.kernel.invokeFunction('convertToInteractive',\n",
              "                                                     [key], {});\n",
              "          if (!dataTable) return;\n",
              "\n",
              "          const docLinkHtml = 'Like what you see? Visit the ' +\n",
              "            '<a target=\"_blank\" href=https://colab.research.google.com/notebooks/data_table.ipynb>data table notebook</a>'\n",
              "            + ' to learn more about interactive tables.';\n",
              "          element.innerHTML = '';\n",
              "          dataTable['output_type'] = 'display_data';\n",
              "          await google.colab.output.renderOutput(dataTable, element);\n",
              "          const docLink = document.createElement('div');\n",
              "          docLink.innerHTML = docLinkHtml;\n",
              "          element.appendChild(docLink);\n",
              "        }\n",
              "      </script>\n",
              "    </div>\n",
              "  </div>\n",
              "  "
            ]
          },
          "metadata": {},
          "execution_count": 3
        }
      ]
    },
    {
      "cell_type": "code",
      "source": [
        "print(df.shape)\n",
        "print(\"\\n\")\n",
        "print(df.columns)"
      ],
      "metadata": {
        "colab": {
          "base_uri": "https://localhost:8080/"
        },
        "id": "ZaF_cmRLRaV0",
        "outputId": "63564e85-744d-4b89-ed7c-784ce4e8860b"
      },
      "execution_count": null,
      "outputs": [
        {
          "output_type": "stream",
          "name": "stdout",
          "text": [
            "(3513, 20)\n",
            "\n",
            "\n",
            "Index(['ProjectNumber', 'Lead', 'RecipientName', 'RecipientType', 'Indigenous',\n",
            "       'Town_City_Community', 'Province_Territory', 'PostalCode',\n",
            "       'ContactName', 'ContactPhone', 'ContactEmail', 'Funding_Status',\n",
            "       'Requested', 'Approved_Funding', 'Investment_Type',\n",
            "       'Investment_Description', 'Investment_Output',\n",
            "       'Describe_Remaining_Need', 'Additonal_Funding_Needed', 'PageIndex'],\n",
            "      dtype='object')\n"
          ]
        }
      ]
    },
    {
      "cell_type": "code",
      "source": [
        "#remove columns not required for analysis\n",
        "dfb = df.drop(columns=['ProjectNumber','RecipientName', 'RecipientType', 'Indigenous', 'Province_Territory', 'PostalCode',\n",
        "       'ContactName', 'ContactPhone', 'ContactEmail','Requested', 'Investment_Description',\n",
        "       'Investment_Output', 'Describe_Remaining_Need',\n",
        "       'Additonal_Funding_Needed', 'PageIndex'])\n",
        "dfb.reset_index(drop=True,inplace=True)"
      ],
      "metadata": {
        "id": "EMIIhSoKSTzG"
      },
      "execution_count": null,
      "outputs": []
    },
    {
      "cell_type": "code",
      "source": [
        "dfb.Investment_Type.value_counts()"
      ],
      "metadata": {
        "colab": {
          "base_uri": "https://localhost:8080/"
        },
        "id": "1RAZlhbRS7Zp",
        "outputId": "92a21538-c099-471d-fa68-72916a8a07f9"
      },
      "execution_count": null,
      "outputs": [
        {
          "output_type": "execute_result",
          "data": {
            "text/plain": [
              "Food & Meals                     1148\n",
              "Financial Assistance             1032\n",
              "Food+                             855\n",
              "Transportation/Storage            138\n",
              "Wages                             111\n",
              "Personal Protective Equipment     101\n",
              "Capital Investment                 62\n",
              "Food Distribution                  39\n",
              "Name: Investment_Type, dtype: int64"
            ]
          },
          "metadata": {},
          "execution_count": 6
        }
      ]
    },
    {
      "cell_type": "code",
      "source": [
        "dfb.Lead.value_counts()"
      ],
      "metadata": {
        "colab": {
          "base_uri": "https://localhost:8080/"
        },
        "id": "GQw1WQzDcuJp",
        "outputId": "ebf19533-fbec-4206-860d-48512215faa0"
      },
      "execution_count": null,
      "outputs": [
        {
          "output_type": "execute_result",
          "data": {
            "text/plain": [
              "Breakfast Club of Canada         942\n",
              "Second Harvest                   930\n",
              "Food Banks Canada                838\n",
              "The Salvation Army               460\n",
              "Community Food Centres Canada    314\n",
              "La Tablee des Chefs               21\n",
              "Name: Lead, dtype: int64"
            ]
          },
          "metadata": {},
          "execution_count": 7
        }
      ]
    },
    {
      "cell_type": "code",
      "source": [
        "#ML operations"
      ],
      "metadata": {
        "id": "h0xn53AhwkV-"
      },
      "execution_count": null,
      "outputs": []
    },
    {
      "cell_type": "code",
      "source": [
        "#creating a copy of dataframe\n",
        "data=dfb\n",
        "data.Funding_Status.unique()"
      ],
      "metadata": {
        "colab": {
          "base_uri": "https://localhost:8080/"
        },
        "id": "fMcKRUTXxW8z",
        "outputId": "39475080-9979-477c-bc31-33e0178a8d91"
      },
      "execution_count": null,
      "outputs": [
        {
          "output_type": "execute_result",
          "data": {
            "text/plain": [
              "array(['Approved', 'Approved- other', 'rejected', 'reiected',\n",
              "       'D - Funded by another AAFC ore', 'D - Duplicate Apo',\n",
              "       'D - Did Not Qualifv', 'D - Incomplete Apo',\n",
              "       'D - Funded by another AAFC org', 'Did Not Qualifv',\n",
              "       'Affiliated with another AAFC funded org', 'Withdrawn',\n",
              "       'Duplicate Apo', 'Did Not Qualify', 'Duplicate App',\n",
              "       'D - Did Not Qualify', 'Duplicate Apn',\n",
              "       'D - Affiliated with another AAFC funded org', 'Incomplete Apo',\n",
              "       'D - Did Not Quality', 'Funded by another AAFC org',\n",
              "       'Did Not Quality', 'Incomplete App', 'D - Incomplete App',\n",
              "       'Duplicate Lnn', 'D - Duplicate App', 'D - Duplicate Apn',\n",
              "       'Funded by another org AAFC _', 'D - Funded by another org AAFC _',\n",
              "       'D - Affiliated with another AAFC tunded org'], dtype=object)"
            ]
          },
          "metadata": {},
          "execution_count": 9
        }
      ]
    },
    {
      "cell_type": "code",
      "source": [
        "#feature-transformation\n",
        "\n",
        "# Define the transformation function\n",
        "def transform_funding_status(x):\n",
        "    if x in ['Approved', 'Approved-Other']:\n",
        "        return 'Approved'\n",
        "    else:\n",
        "        return 'NotApproved'\n",
        "\n",
        "# Apply the transformation to the 'Funding_Status' column\n",
        "data['Funding_Status'] = data['Funding_Status'].apply(lambda x: transform_funding_status(x))\n",
        "\n",
        "# Display the updated DataFrame values for Funding_Status\n",
        "data.Funding_Status.value_counts()\n"
      ],
      "metadata": {
        "colab": {
          "base_uri": "https://localhost:8080/"
        },
        "id": "ec3pjlX9yKFW",
        "outputId": "e7eca4cc-a343-4ab7-f6bc-54aac297a1ec"
      },
      "execution_count": null,
      "outputs": [
        {
          "output_type": "execute_result",
          "data": {
            "text/plain": [
              "Approved       3255\n",
              "NotApproved     258\n",
              "Name: Funding_Status, dtype: int64"
            ]
          },
          "metadata": {},
          "execution_count": 19
        }
      ]
    },
    {
      "cell_type": "code",
      "source": [
        "#downsampling\n",
        "\n",
        "\n",
        "# Count the number of 'Approved' and 'NotApproved' rows in the 'Funding_Status' column\n",
        "counts = data['Funding_Status'].value_counts()\n",
        "\n",
        "# Determine the size of the downsampled 'Approved' subset\n",
        "n_approved = counts['Approved']\n",
        "n_not_approved = counts['NotApproved']\n",
        "downsampled_size = n_not_approved\n",
        "\n",
        "# Randomly select a subset of the 'Approved' rows to keep\n",
        "approved_subset = data[data['Funding_Status'] == 'Approved'].sample(n=downsampled_size)\n",
        "\n",
        "# Select all the 'Not Approved' rows\n",
        "not_approved_subset = data[data['Funding_Status'] == 'NotApproved']\n",
        "\n",
        "# Concatenate the 'Approved' and 'Not Approved' subsets into a single DataFrame\n",
        "downsampled_data = pd.concat([approved_subset, not_approved_subset])\n",
        "\n",
        "# Shuffle the rows of the downsampled DataFrame\n",
        "downsampled_data = downsampled_data.sample(frac=1, random_state=42)\n",
        "downsampled_data.shape"
      ],
      "metadata": {
        "colab": {
          "base_uri": "https://localhost:8080/"
        },
        "id": "e-CqAhhu8WXu",
        "outputId": "a28998b8-b5ff-4708-8116-768ee5c712e8"
      },
      "execution_count": null,
      "outputs": [
        {
          "output_type": "execute_result",
          "data": {
            "text/plain": [
              "(516, 5)"
            ]
          },
          "metadata": {},
          "execution_count": 21
        }
      ]
    },
    {
      "cell_type": "code",
      "source": [
        "downsampled_data.Funding_Status.value_counts()"
      ],
      "metadata": {
        "colab": {
          "base_uri": "https://localhost:8080/"
        },
        "id": "wLwDO8E88185",
        "outputId": "fac914c1-17ce-4fa3-9838-0e8046f53aaf"
      },
      "execution_count": null,
      "outputs": [
        {
          "output_type": "execute_result",
          "data": {
            "text/plain": [
              "NotApproved    258\n",
              "Approved       258\n",
              "Name: Funding_Status, dtype: int64"
            ]
          },
          "metadata": {},
          "execution_count": 25
        }
      ]
    },
    {
      "cell_type": "code",
      "source": [
        "#Classification using Logistic Regression"
      ],
      "metadata": {
        "id": "2OiA-zW_wlZr"
      },
      "execution_count": null,
      "outputs": []
    },
    {
      "cell_type": "code",
      "source": [
        "import pandas as pd\n",
        "\n",
        "X = downsampled_data[['Lead', 'Town_City_Community', 'Approved_Funding', 'Investment_Type']]\n",
        "y = downsampled_data['Funding_Status']\n"
      ],
      "metadata": {
        "id": "2vRDs1GlwnXo"
      },
      "execution_count": null,
      "outputs": []
    },
    {
      "cell_type": "code",
      "source": [
        "#preprocessing\n",
        "from sklearn.preprocessing import LabelEncoder, StandardScaler\n",
        "from sklearn.impute import SimpleImputer\n",
        "\n",
        "# Encode categorical variables\n",
        "le = LabelEncoder()\n",
        "X['Lead'] = le.fit_transform(X['Lead'])\n",
        "X['Town_City_Community'] = le.fit_transform(X['Town_City_Community'])\n",
        "X['Investment_Type'] = le.fit_transform(X['Investment_Type'])\n",
        "\n",
        "# Handle missing values\n",
        "imputer = SimpleImputer()\n",
        "X = imputer.fit_transform(X)\n",
        "\n",
        "# Scale the features\n",
        "scaler = StandardScaler()\n",
        "X = scaler.fit_transform(X)"
      ],
      "metadata": {
        "id": "p-rdUOaPKfmv",
        "colab": {
          "base_uri": "https://localhost:8080/"
        },
        "outputId": "0fe5610d-d624-4b99-b9aa-e6ee6a81ea87"
      },
      "execution_count": null,
      "outputs": [
        {
          "output_type": "stream",
          "name": "stderr",
          "text": [
            "<ipython-input-27-760baaf6ef97>:7: SettingWithCopyWarning: \n",
            "A value is trying to be set on a copy of a slice from a DataFrame.\n",
            "Try using .loc[row_indexer,col_indexer] = value instead\n",
            "\n",
            "See the caveats in the documentation: https://pandas.pydata.org/pandas-docs/stable/user_guide/indexing.html#returning-a-view-versus-a-copy\n",
            "  X['Lead'] = le.fit_transform(X['Lead'])\n",
            "<ipython-input-27-760baaf6ef97>:8: SettingWithCopyWarning: \n",
            "A value is trying to be set on a copy of a slice from a DataFrame.\n",
            "Try using .loc[row_indexer,col_indexer] = value instead\n",
            "\n",
            "See the caveats in the documentation: https://pandas.pydata.org/pandas-docs/stable/user_guide/indexing.html#returning-a-view-versus-a-copy\n",
            "  X['Town_City_Community'] = le.fit_transform(X['Town_City_Community'])\n",
            "<ipython-input-27-760baaf6ef97>:9: SettingWithCopyWarning: \n",
            "A value is trying to be set on a copy of a slice from a DataFrame.\n",
            "Try using .loc[row_indexer,col_indexer] = value instead\n",
            "\n",
            "See the caveats in the documentation: https://pandas.pydata.org/pandas-docs/stable/user_guide/indexing.html#returning-a-view-versus-a-copy\n",
            "  X['Investment_Type'] = le.fit_transform(X['Investment_Type'])\n"
          ]
        }
      ]
    },
    {
      "cell_type": "code",
      "source": [
        "from sklearn.model_selection import train_test_split\n",
        "\n",
        "X_train, X_test, y_train, y_test = train_test_split(X, y, test_size=0.25, random_state=42)"
      ],
      "metadata": {
        "id": "bfBb8QJIygI4"
      },
      "execution_count": null,
      "outputs": []
    },
    {
      "cell_type": "code",
      "source": [
        "from sklearn.linear_model import LogisticRegression\n",
        "\n",
        "# Train the model\n",
        "clf = LogisticRegression()\n",
        "clf.fit(X_train, y_train)\n",
        "\n",
        "# Make predictions\n",
        "y_pred = clf.predict(X_test)"
      ],
      "metadata": {
        "id": "S7mQj5uyyip8"
      },
      "execution_count": null,
      "outputs": []
    },
    {
      "cell_type": "code",
      "source": [
        "# Evaluate the model\n",
        "from sklearn.metrics import accuracy_score, precision_score, recall_score, f1_score,confusion_matrix,classification_report\n",
        "\n",
        "print('Accuracy:', accuracy_score(y_test, y_pred))\n",
        "print('F1 Score:', f1_score(y_test, y_pred,pos_label='Approved',average='micro'))"
      ],
      "metadata": {
        "colab": {
          "base_uri": "https://localhost:8080/"
        },
        "id": "YEsjY7PWymfu",
        "outputId": "0fac76e7-ef34-417d-d9c6-d96d90a0f20f"
      },
      "execution_count": null,
      "outputs": [
        {
          "output_type": "stream",
          "name": "stdout",
          "text": [
            "Accuracy: 0.8372093023255814\n",
            "F1 Score: 0.8372093023255814\n"
          ]
        },
        {
          "output_type": "stream",
          "name": "stderr",
          "text": [
            "/usr/local/lib/python3.9/dist-packages/sklearn/metrics/_classification.py:1396: UserWarning: Note that pos_label (set to 'Approved') is ignored when average != 'binary' (got 'micro'). You may use labels=[pos_label] to specify a single positive class.\n",
            "  warnings.warn(\n"
          ]
        }
      ]
    },
    {
      "cell_type": "code",
      "source": [
        "print(classification_report(y_test, y_pred))"
      ],
      "metadata": {
        "id": "8_1WDvSwKfpY",
        "colab": {
          "base_uri": "https://localhost:8080/"
        },
        "outputId": "9157099e-9d99-413a-815d-2f0326cf6646"
      },
      "execution_count": null,
      "outputs": [
        {
          "output_type": "stream",
          "name": "stdout",
          "text": [
            "              precision    recall  f1-score   support\n",
            "\n",
            "    Approved       0.98      0.72      0.83        71\n",
            " NotApproved       0.74      0.98      0.84        58\n",
            "\n",
            "    accuracy                           0.84       129\n",
            "   macro avg       0.86      0.85      0.84       129\n",
            "weighted avg       0.87      0.84      0.84       129\n",
            "\n"
          ]
        }
      ]
    },
    {
      "cell_type": "code",
      "source": [],
      "metadata": {
        "id": "yXYu_jAk0rrL"
      },
      "execution_count": null,
      "outputs": []
    }
  ]
}