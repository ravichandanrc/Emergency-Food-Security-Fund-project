{
  "cells": [
    {
      "cell_type": "code",
      "execution_count": 5,
      "metadata": {
        "colab": {
          "base_uri": "https://localhost:8080/"
        },
        "id": "uvg6ucMvO-On",
        "outputId": "a990584c-e98b-4122-aa82-4ed32d3437dc"
      },
      "outputs": [
        {
          "name": "stdout",
          "output_type": "stream",
          "text": [
            "Reading package lists... Done\n",
            "Building dependency tree       \n",
            "Reading state information... Done\n",
            "poppler-utils is already the newest version (0.86.1-0ubuntu1.1).\n",
            "0 upgraded, 0 newly installed, 0 to remove and 24 not upgraded.\n",
            "Looking in indexes: https://pypi.org/simple, https://us-python.pkg.dev/colab-wheels/public/simple/\n",
            "Requirement already satisfied: pdf2image in /usr/local/lib/python3.9/dist-packages (1.16.3)\n",
            "Requirement already satisfied: pillow in /usr/local/lib/python3.9/dist-packages (from pdf2image) (8.4.0)\n"
          ]
        }
      ],
      "source": [
        "#installing required modules\n",
        "!apt-get install poppler-utils\n",
        "!pip install pdf2image"
      ]
    },
    {
      "cell_type": "code",
      "execution_count": 6,
      "metadata": {
        "id": "FjVKbSCtQYZX"
      },
      "outputs": [],
      "source": [
        "#importing required libraries\n",
        "from pdf2image import convert_from_path\n",
        "import numpy as np\n",
        "import os"
      ]
    },
    {
      "cell_type": "code",
      "execution_count": null,
      "metadata": {
        "id": "xGXaoa2Z2YwO"
      },
      "outputs": [],
      "source": [
        "# specify the folder path where you want to save the images\n",
        "folder_path = \"/content/drive/MyDrive/2PDFtoImages/PDF B\"\n",
        "\n",
        "# create the folder if it doesn't exist\n",
        "if not os.path.exists(folder_path):\n",
        "    os.makedirs(folder_path)"
      ]
    },
    {
      "cell_type": "code",
      "execution_count": null,
      "metadata": {
        "id": "2fY5X5khQdMn"
      },
      "outputs": [],
      "source": [
        "pdf_file = '/content/drive/MyDrive/2PDFtoImages/B-551-669.pdf' # select pdf file"
      ]
    },
    {
      "cell_type": "code",
      "execution_count": null,
      "metadata": {
        "id": "399zKb-VONcI"
      },
      "outputs": [],
      "source": [
        "images = convert_from_path(pdf_file)"
      ]
    },
    {
      "cell_type": "code",
      "execution_count": null,
      "metadata": {
        "id": "75Jaj6nlQcee"
      },
      "outputs": [],
      "source": [
        "for i, image in enumerate(images, start = 46):\n",
        "    fname = os.path.join(folder_path, 'PDF B-Image-{:03d}.png'.format(i))\n",
        "    image.save(fname, \"PNG\")"
      ]
    }
  ],
  "metadata": {
    "colab": {
      "provenance": []
    },
    "kernelspec": {
      "display_name": "Python 3",
      "name": "python3"
    },
    "language_info": {
      "name": "python"
    }
  },
  "nbformat": 4,
  "nbformat_minor": 0
}
